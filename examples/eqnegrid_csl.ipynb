{
 "cells": [
  {
   "cell_type": "markdown",
   "id": "f7d0e011-e94e-4466-8ee6-758ca1802fa8",
   "metadata": {},
   "source": [
    "## Velocity structure 1 D"
   ]
  },
  {
   "cell_type": "code",
   "execution_count": 1,
   "id": "c9e9ac2f-847c-41d5-83dd-3eb2428d1e8e",
   "metadata": {},
   "outputs": [],
   "source": [
    "from eqnemix import eqnegrid as eqng\n",
    "import matplotlib.pyplot as plt\n",
    "import nllgrid"
   ]
  },
  {
   "cell_type": "code",
   "execution_count": 2,
   "id": "607cc064-7d6d-437c-ad08-42bd21ee9dda",
   "metadata": {},
   "outputs": [],
   "source": [
    "vp_values = [5.5, 5.85, 6.5, 8.18]  \n",
    "vs_values = [3.06,3.25, 3.61, 4.54]\n",
    "layer_thickness = [5, 24, 10, 100]  "
   ]
  },
  {
   "cell_type": "code",
   "execution_count": 3,
   "id": "fb5ec9ac-8bc1-4051-b5ef-7028c5e2e78c",
   "metadata": {},
   "outputs": [],
   "source": [
    "eq=eqng(fileextent='extent.shp', inputsrc=4326, outputcrs=3587,\n",
    "       filesp='Vsp.npy',files='Vs.npy', filep='Vp.npy', deltadist=1000)"
   ]
  },
  {
   "cell_type": "markdown",
   "id": "7214739f-e9ab-4b40-808f-64402f2b6500",
   "metadata": {},
   "source": [
    "### Load the 3D grid using a simple index slicing "
   ]
  },
  {
   "cell_type": "markdown",
   "id": "b53addac-f16e-41d8-85ca-4af7c08b9640",
   "metadata": {},
   "source": [
    "### P Grid"
   ]
  },
  {
   "cell_type": "code",
   "execution_count": 4,
   "id": "0cbc8dc1-dd29-4a83-8cd7-9eeb184b7533",
   "metadata": {},
   "outputs": [],
   "source": [
    "if len(layer_thickness) != len(vp_values):\n",
    "    raise ValueError(\"Error in dimension of layer thickness\")\n",
    "z_start = 0\n",
    "\n",
    "for i, vs in enumerate(vp_values):\n",
    "    z_end = z_start + layer_thickness[i]\n",
    "    eq.gridp.array[:, :, z_start:z_end] = vs\n",
    "    z_start = z_end  \n",
    "if z_end < eq.nz:\n",
    "    eq.gridp.array[:, :, z_end:] = vp_values[-1]"
   ]
  },
  {
   "cell_type": "markdown",
   "id": "76194343-c9a8-47d8-b580-2f29565c6e9a",
   "metadata": {},
   "source": [
    "### S Grid"
   ]
  },
  {
   "cell_type": "code",
   "execution_count": 5,
   "id": "9de01551-129c-4370-8285-5b743c22f4b5",
   "metadata": {},
   "outputs": [],
   "source": [
    "if len(layer_thickness) != len(vs_values):\n",
    "    raise ValueError(\"Error in dimension of layer thickness\")\n",
    "z_start = 0\n",
    "\n",
    "for i, vs in enumerate(vs_values):\n",
    "    z_end = z_start + layer_thickness[i]\n",
    "    eq.grids.array[:, :, z_start:z_end] = vs\n",
    "    z_start = z_end  \n",
    "if z_end < eq.nz:\n",
    "    eq.grids.array[:, :, z_end:] = vp_values[-1]"
   ]
  },
  {
   "cell_type": "markdown",
   "id": "7b8163e9-7f20-4a5c-9511-659beec129b8",
   "metadata": {},
   "source": [
    "## Plot the Grid XYZ"
   ]
  },
  {
   "cell_type": "code",
   "execution_count": 6,
   "id": "74276f11-b5c3-49bc-bc35-65da740d6375",
   "metadata": {},
   "outputs": [
    {
     "data": {
      "image/png": "[encoded data removed]",
      "text/plain": [
       "<Figure size 640x480 with 2 Axes>"
      ]
     },
     "metadata": {},
     "output_type": "display_data"
    }
   ],
   "source": [
    "slice_index = eq.ny // 2  \n",
    "plt.imshow(eq.gridp.array[:, slice_index, :].T, cmap='Greens', origin='upper', aspect='auto')\n",
    "plt.colorbar(label='Vs (m/s)')\n",
    "plt.title('Transver section')\n",
    "plt.xlabel('X')\n",
    "plt.ylabel('Z')\n",
    "plt.show()"
   ]
  },
  {
   "cell_type": "code",
   "execution_count": 7,
   "id": "0768ed71-6f28-40fc-a52e-f6a4193c0ec2",
   "metadata": {},
   "outputs": [
    {
     "name": "stdout",
     "output_type": "stream",
     "text": [
      "fileextent: extent.shp\n",
      "inputsrc: 4326\n",
      "outputcrs: 3587\n",
      "filesp: Vsp.npy\n",
      "filep: Vp.npy\n",
      "files: Vs.npy\n",
      "deltadist: 1000\n",
      "inputcrs: EPSG:4326\n",
      "minx: 4001250.5258963117\n",
      "miny: -1217183.3701487812\n",
      "maxx: 4239792.688220768\n",
      "maxy: -955602.1075079076\n",
      "length_x: 238542.1623244565\n",
      "length_y: 261581.26264087367\n",
      "elements_x: 238\n",
      "elements_y: 261\n",
      "max_elements: 261\n",
      "nx: 261\n",
      "ny: 261\n",
      "nz: 261\n",
      "dx: 1000\n",
      "dy: 1000\n",
      "dz: 1000\n",
      "x_orig: 4001250.5258963117\n",
      "y_orig: -1217183.3701487812\n",
      "z_orig: 0\n",
      "gridp: basename: Vp_grid\n",
      "nx: 261 ny: 261 nz: 261\n",
      "x_orig: 4001250.5258963117 y_orig: -1217183.3701487812 z_orig: 0\n",
      "dx: 1000 dy: 1000 dz: 1000\n",
      "grid_type: VELOCITY\n",
      "float_type: FLOAT\n",
      "transform: TRANSFORM  SIMPLE  LatOrig 0.000000  LongOrig 0.000000  RotCW 0.000000\n",
      "grids: basename: Vs_grid\n",
      "nx: 261 ny: 261 nz: 261\n",
      "x_orig: 4001250.5258963117 y_orig: -1217183.3701487812 z_orig: 0\n",
      "dx: 1000 dy: 1000 dz: 1000\n",
      "grid_type: VELOCITY\n",
      "float_type: FLOAT\n",
      "transform: TRANSFORM  SIMPLE  LatOrig 0.000000  LongOrig 0.000000  RotCW 0.000000\n"
     ]
    }
   ],
   "source": [
    "eq.print_variables()"
   ]
  },
  {
   "cell_type": "code",
   "execution_count": 9,
   "id": "8231b46a-a75e-46a5-8c2e-25cfcaa54d79",
   "metadata": {},
   "outputs": [],
   "source": [
    "eq.savefiles(basefile=\"tx_\")"
   ]
  },
  {
   "cell_type": "code",
   "execution_count": null,
   "id": "0eac629c-ecfc-4308-81a2-0b32c1004e93",
   "metadata": {},
   "outputs": [],
   "source": []
  }
 ],
 "metadata": {
  "kernelspec": {
   "display_name": "seisbench",
   "language": "python",
   "name": "seisbench"
  },
  "language_info": {
   "codemirror_mode": {
    "name": "ipython",
    "version": 3
   },
   "file_extension": ".py",
   "mimetype": "text/x-python",
   "name": "python",
   "nbconvert_exporter": "python",
   "pygments_lexer": "ipython3",
   "version": "3.10.14"
  }
 },
 "nbformat": 4,
 "nbformat_minor": 5
}
