{
 "cells": [
  {
   "cell_type": "code",
   "execution_count": 1,
   "metadata": {},
   "outputs": [],
   "source": [
    "from eqnemix import eqnemaster\n",
    "import matplotlib.pyplot as plt"
   ]
  },
  {
   "cell_type": "markdown",
   "metadata": {},
   "source": [
    "# Main class"
   ]
  },
  {
   "cell_type": "markdown",
   "metadata": {},
   "source": [
    "### The first thing we need to initialize the class is the location of the station to work with"
   ]
  },
  {
   "cell_type": "code",
   "execution_count": 2,
   "metadata": {},
   "outputs": [],
   "source": [
    "stax = -103.510147    #Longitude of CI.CLC\n",
    "stay = 31.408922    # latitude of CI.CLC\n",
    "\n",
    "eq = eqnemaster(-103.510147,31.408922, deltadist=1000)"
   ]
  },
  {
   "cell_type": "markdown",
   "metadata": {},
   "source": [
    "### Then we have to define an area around the station to work with"
   ]
  },
  {
   "cell_type": "markdown",
   "metadata": {},
   "source": [
    "#### Using a Shape file"
   ]
  },
  {
   "cell_type": "code",
   "execution_count": 3,
   "metadata": {},
   "outputs": [
    {
     "data": {
      "text/plain": [
       "(-11669823.762683755, 3583642.4713136116, 255)"
      ]
     },
     "execution_count": 3,
     "metadata": {},
     "output_type": "execute_result"
    }
   ],
   "source": [
    "eq.xminyminshape(\"extent.shp\",inputcrs=4326,outputcrs=3857)"
   ]
  },
  {
   "cell_type": "markdown",
   "metadata": {},
   "source": [
    "#### By providing the bottom left and the top right corner of the area"
   ]
  },
  {
   "cell_type": "code",
   "execution_count": 4,
   "metadata": {},
   "outputs": [
    {
     "name": "stdout",
     "output_type": "stream",
     "text": [
      "EPSG:4326\n",
      "(-104.83181049, 30.6211275, -102.86858939, 32.57773843)\n"
     ]
    }
   ],
   "source": [
    "import geopandas as gpd\n",
    "gdf = gpd.read_file(\"extent.shp\") #Leer el archivo\n",
    "polygon = gdf.geometry.iloc[0]\n",
    "print(gdf.crs)\n",
    "print(polygon.bounds)"
   ]
  },
  {
   "cell_type": "code",
   "execution_count": 5,
   "metadata": {},
   "outputs": [
    {
     "name": "stdout",
     "output_type": "stream",
     "text": [
      "EPSG:3587\n"
     ]
    }
   ],
   "source": [
    "from pyproj import CRS\n",
    "print(CRS.from_epsg(3587))"
   ]
  },
  {
   "cell_type": "code",
   "execution_count": 6,
   "metadata": {},
   "outputs": [
    {
     "data": {
      "text/plain": [
       "(-11669823.762683755, 3583642.4713136116, 255)"
      ]
     },
     "execution_count": 6,
     "metadata": {},
     "output_type": "execute_result"
    }
   ],
   "source": [
    "eq.xminymin(-104.83181049,30.6211275,-102.86858939,32.57773843,inputcrs=4326,outputcrs=3857)"
   ]
  },
  {
   "cell_type": "code",
   "execution_count": 7,
   "metadata": {},
   "outputs": [],
   "source": [
    "vp_values = [5.5, 5.85, 6.5, 8.18]  \n",
    "vs_values = [3.06,3.25, 3.61, 4.54]\n",
    "layer_thickness = [5, 24, 10, 100]  "
   ]
  },
  {
   "cell_type": "code",
   "execution_count": 8,
   "metadata": {},
   "outputs": [],
   "source": [
    "gridp, grids = eq.nllgrid(vp_values,vs_values,layer_thickness)"
   ]
  },
  {
   "cell_type": "code",
   "execution_count": 9,
   "metadata": {},
   "outputs": [],
   "source": [
    "tps = eq.eqnefmm()"
   ]
  },
  {
   "cell_type": "code",
   "execution_count": null,
   "metadata": {},
   "outputs": [],
   "source": []
  }
 ],
 "metadata": {
  "kernelspec": {
   "display_name": "seisbench_joel",
   "language": "python",
   "name": "python3"
  },
  "language_info": {
   "codemirror_mode": {
    "name": "ipython",
    "version": 3
   },
   "file_extension": ".py",
   "mimetype": "text/x-python",
   "name": "python",
   "nbconvert_exporter": "python",
   "pygments_lexer": "ipython3",
   "version": "3.12.5"
  }
 },
 "nbformat": 4,
 "nbformat_minor": 2
}
